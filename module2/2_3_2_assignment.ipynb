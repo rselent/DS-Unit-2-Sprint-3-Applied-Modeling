{
  "nbformat": 4,
  "nbformat_minor": 0,
  "metadata": {
    "jupytext": {
      "cell_metadata_filter": "-all",
      "main_language": "python",
      "notebook_metadata_filter": "-all"
    },
    "kernelspec": {
      "display_name": "Python 3",
      "language": "python",
      "name": "python3"
    },
    "language_info": {
      "codemirror_mode": {
        "name": "ipython",
        "version": 3
      },
      "file_extension": ".py",
      "mimetype": "text/x-python",
      "name": "python",
      "nbconvert_exporter": "python",
      "pygments_lexer": "ipython3",
      "version": "3.7.3"
    },
    "colab": {
      "name": "2_3_2_assignment.ipynb",
      "provenance": [],
      "toc_visible": true,
      "include_colab_link": true
    }
  },
  "cells": [
    {
      "cell_type": "markdown",
      "metadata": {
        "id": "view-in-github",
        "colab_type": "text"
      },
      "source": [
        "<a href=\"https://colab.research.google.com/github/rselent/DS-Unit-2-Sprint-3-Applied-Modeling/blob/master/module2/2_3_2_assignment.ipynb\" target=\"_parent\"><img src=\"https://colab.research.google.com/assets/colab-badge.svg\" alt=\"Open In Colab\"/></a>"
      ]
    },
    {
      "cell_type": "markdown",
      "metadata": {
        "id": "4Ov0J4SC6mXb",
        "colab_type": "text"
      },
      "source": [
        "Lambda School Data Science\n",
        "\n",
        "*Unit 2, Sprint 3, Module 1*\n",
        "\n",
        "---\n",
        "\n",
        "\n",
        "# Wrangle ML datasets\n",
        "\n",
        "- [ ] Continue to clean and explore your data. \n",
        "- [ ] For the evaluation metric you chose, what score would you get just by guessing?\n",
        "- [ ] Can you make a fast, first model that beats guessing?\n",
        "\n",
        "**We recommend that you use your portfolio project dataset for all assignments this sprint.**\n",
        "\n"
      ]
    },
    {
      "cell_type": "code",
      "metadata": {
        "id": "XHVe0CFqBcGj",
        "colab_type": "code",
        "colab": {}
      },
      "source": [
        "## Feature Dictionary:\n",
        "\n",
        "## name                 Object full name\n",
        "## a                    semi-major axis(au)\n",
        "## e                    eccentricity\n",
        "## i                    Inclination with respect to x-y ecliptic plane(deg)\n",
        "## om                   Longitude of the ascending node\n",
        "## w                    argument of perihelion\n",
        "## q                    perihelion distance(au)\n",
        "## ad                   aphelion distance(au)\n",
        "## per_y                Orbital period(YEARS)\n",
        "## data_arc             data arc-span(d)\n",
        "## condition_code       Orbit condition code\n",
        "## n_obs_used           Number of observation used\n",
        "## H                    Absolute Magnitude parameter\n",
        "## neo                  Near Earth Object\n",
        "## pha                  Physically Hazardous Asteroid\n",
        "## diameter             Diameter of asteroid(Km)\n",
        "## extent               Object bi/tri axial ellipsoid dimensions(Km)\n",
        "## albedo               geometric albedo\n",
        "## rot_per              Rotation Period(h)\n",
        "## GM                   Standard gravitational parameter, Product of mass and gravitational constant\n",
        "## BV                   Color index B-V magnitude difference\n",
        "## UB                   Color index U-B magnitude difference\n",
        "## IR                   Color index I-R magnitude difference\n",
        "## spec_B               Spectral taxonomic type(SMASSII)\n",
        "## spec_T               Spectral taxonomic type(Tholen)\n",
        "## G                    Magnitude slope parameter\n",
        "## moid                 Earth Minimum orbit Intersection Distance(au)\n",
        "## class                asteroid orbit class\n",
        "## n                    Mean motion(deg/d)\n",
        "## per                  orbital Period(d)\n",
        "## ma                   Mean anomaly(deg)"
      ],
      "execution_count": 0,
      "outputs": []
    },
    {
      "cell_type": "code",
      "metadata": {
        "id": "2e6BDFU9PJ_I",
        "colab_type": "code",
        "colab": {}
      },
      "source": [
        "## From personal (and discovered) knowledge -- Important Features to determine PHA\n",
        "\n",
        "####    Prime Importance    ####\n",
        "\n",
        "## condition_code           ## Orbit condition code, aka U-Uncertainty Parameter, \n",
        "                            ## is an integer between 0 and 9, indicating how well-\n",
        "                            ## known an object's orbit is, where 0 is a very well-\n",
        "                            ## known / predictable orbit. The higher this value,\n",
        "                            ## the more dangerous an object potentially is\n",
        "## neo (Near-Earth Object)  ## Any object is an NEO if its closest distance to\n",
        "                            ## the Sun (perihelion) is < 1.3 AU (AU = Astronomical Unit, \n",
        "                            ## the mean distance between Earth and the Sun is 1 AU).\n",
        "                            ## If an NEO's orbit cross the Earth's orbit at any point\n",
        "                            ## (even if on the opposite end (for now)) and the NEO\n",
        "                            ## has a diameter > 140m (or an Absolute Magnitude > 22), \n",
        "                            ## it is immediately considered a Potentially Hazardous \n",
        "                            ## Object (PHO). Furthermore, most PHOs are later\n",
        "                            ## considered to be PHAs as well.\n",
        "## moid (Earth Minimum Orbit Intersection Distance)\n",
        "                            ## Measured in AU, this describes how close an object\n",
        "                            ## (one which has a known trajectory/orbit) comes to \n",
        "                            ## Earth's orbital path around the Sun.\n",
        "                            ## If < .05 AU, instant \"oh fuck\" upgrade\n",
        "## class (Asteroid Orbit Class)\n",
        "                            ## Describes an asteroid's class of orbit.\n",
        "                            ## E.g., class MBA (Main-Belt Asteroid) asteroids are typically\n",
        "                            ## constrained by the formula \"2.0au < a < 3.2au; q > 1.666au\", \n",
        "                            ## where a is the longest diameter of its elliptical orbit (semi-major axis)\n",
        "                            ## and q is closest distance to its focus, the Sun (perihelion).\n",
        "                            ## --> 14 Classes; needs Dictionary\n",
        "\n",
        "####    Tangential    ####\n",
        "\n",
        "## q (Perihelion Distance)  ## If < 1.3 AU, probably an NEO\n",
        "## H (Absolute Magnitude)   ## Brightness of an asteroid. Used to determine its \n",
        "                            ## size. Mostly determined by IR light -- brighter = larger\n",
        "                            ## asteroid, because the larger an object is, the more heat\n",
        "                            ## it produces, regardless of surface color\n",
        "## pha                      ## Target\n",
        "## diameter                 ## If > 140m, is probably a PHA\n",
        "                            ## --> Alternative Target, also\n",
        "\n",
        "####    Interesting but Unnecessary, probably    ####\n",
        "\n",
        "## BV     --\\\n",
        "## UB        \\\n",
        "## IR         -- Color Indicies and Taxonomies\n",
        "## Spec_B    /              ## Used to identify object composition and structure\n",
        "## Spec_T --/               ## --> Unnecessary as above 140m diameter, literally anything can be pha.\n",
        "                            ## --> Although, composition can affect one aspect of the\n",
        "                            ## --> Absolute Magnitude measurement... hmm....\n"
      ],
      "execution_count": 0,
      "outputs": []
    },
    {
      "cell_type": "code",
      "metadata": {
        "id": "1xdNV3nq627X",
        "colab_type": "code",
        "colab": {}
      },
      "source": [
        "import pandas as pd\n",
        "import numpy as np\n",
        "\n",
        "#from pydrive.auth import GoogleAuth                 ## Totally punching above my\n",
        "#gauth = GoogleAuth()                                ## weight class here. Thank\n",
        "#gauth.LocalWebserverAuth()                          ## you StackOverflow, lol\n",
        "#drive = GoogleDrive(gauth)\n",
        "\n",
        "#from pydrive.drive import GoogleDrive               ## Throwing errors though; will return later\n",
        "#drive = GoogleDrive(gauth)\n",
        "# Initialize GoogleDriveFile instance with file id.\n",
        "#file6 = drive.CreateFile({'id': file5['id']})\n",
        "#file6.GetContentFile('catlove.png') # Download file as 'catlove.png'."
      ],
      "execution_count": 0,
      "outputs": []
    },
    {
      "cell_type": "code",
      "metadata": {
        "id": "WbI5Q1-NFlrQ",
        "colab_type": "code",
        "colab": {}
      },
      "source": [
        "# Share link: https://drive.google.com/file/d/1VWCCF-d_gVqr9FuKjtIU-gngghKDQEy9\n",
        "#file_obj = drive.CreateFile({'id': '1VWCCF-d_gVqr9FuKjtIU-gngghKDQEy9'})\n",
        "#file_obj.GetContentFile('Asteroids.csv') "
      ],
      "execution_count": 0,
      "outputs": []
    },
    {
      "cell_type": "code",
      "metadata": {
        "id": "b8H8RSzB6257",
        "colab_type": "code",
        "colab": {
          "base_uri": "https://localhost:8080/",
          "height": 88
        },
        "outputId": "e954e4aa-9d3e-49ac-ca5b-89a0bd529222"
      },
      "source": [
        "df = pd.read_csv( 'Asteroids.csv')\n",
        "\n",
        "df.shape"
      ],
      "execution_count": 18,
      "outputs": [
        {
          "output_type": "stream",
          "text": [
            "/usr/local/lib/python3.6/dist-packages/IPython/core/interactiveshell.py:2718: DtypeWarning: Columns (0,10,15,16,23,24) have mixed types. Specify dtype option on import or set low_memory=False.\n",
            "  interactivity=interactivity, compiler=compiler, result=result)\n"
          ],
          "name": "stderr"
        },
        {
          "output_type": "execute_result",
          "data": {
            "text/plain": [
              "(839714, 31)"
            ]
          },
          "metadata": {
            "tags": []
          },
          "execution_count": 18
        }
      ]
    },
    {
      "cell_type": "code",
      "metadata": {
        "id": "M7qHH0CkAFzy",
        "colab_type": "code",
        "colab": {}
      },
      "source": [
        "## DtypeWarning: Columns (0,10,15,16,23,24) have mixed types\n",
        "\n",
        "# 0  = name                asteroid's name\n",
        "# 10 = condition_code      orbit condition code\n",
        "# 15 = diameter            diameter of asteroid, in km\n",
        "# 16 = extent              object's bi-/tri- axial ellipsoid dimensions, in km\n",
        "# 23 = spec_B              spectral taxonomic type (SMASSII)\n",
        "# 24 = spec_T              spectral taxonomic type (Tholen)\n",
        "\n",
        "##      **  NEED TO CLEAN 10 and 15, that's it  **      ##"
      ],
      "execution_count": 0,
      "outputs": []
    },
    {
      "cell_type": "code",
      "metadata": {
        "id": "CdoVLYim622R",
        "colab_type": "code",
        "colab": {
          "base_uri": "https://localhost:8080/",
          "height": 561
        },
        "outputId": "71f775e4-001d-4ad1-aa6a-2fa42d41edec"
      },
      "source": [
        "df.dtypes"
      ],
      "execution_count": 3,
      "outputs": [
        {
          "output_type": "execute_result",
          "data": {
            "text/plain": [
              "name               object\n",
              "a                 float64\n",
              "e                 float64\n",
              "i                 float64\n",
              "om                float64\n",
              "w                 float64\n",
              "q                 float64\n",
              "ad                float64\n",
              "per_y             float64\n",
              "data_arc          float64\n",
              "condition_code     object\n",
              "n_obs_used          int64\n",
              "H                 float64\n",
              "neo                object\n",
              "pha                object\n",
              "diameter           object\n",
              "extent             object\n",
              "albedo            float64\n",
              "rot_per           float64\n",
              "GM                float64\n",
              "BV                float64\n",
              "UB                float64\n",
              "IR                float64\n",
              "spec_B             object\n",
              "spec_T             object\n",
              "G                 float64\n",
              "moid              float64\n",
              "class              object\n",
              "n                 float64\n",
              "per               float64\n",
              "ma                float64\n",
              "dtype: object"
            ]
          },
          "metadata": {
            "tags": []
          },
          "execution_count": 3
        }
      ]
    },
    {
      "cell_type": "code",
      "metadata": {
        "id": "t9q1-LLX62zm",
        "colab_type": "code",
        "colab": {
          "base_uri": "https://localhost:8080/",
          "height": 408
        },
        "outputId": "2793f17a-0812-4464-f74c-4d4a82d69b16"
      },
      "source": [
        "df['condition_code'].value_counts()"
      ],
      "execution_count": 4,
      "outputs": [
        {
          "output_type": "execute_result",
          "data": {
            "text/plain": [
              "0      540392\n",
              "0       95711\n",
              "9       23942\n",
              "1       22193\n",
              "5       19766\n",
              "6       17103\n",
              "7       15556\n",
              "8       15474\n",
              "4       15173\n",
              "2       14541\n",
              "1       10568\n",
              "3        9430\n",
              "9.0      7224\n",
              "6.0      5804\n",
              "2        5563\n",
              "5        5336\n",
              "7.0      4946\n",
              "8.0      4347\n",
              "3        3133\n",
              "4        2490\n",
              "E         154\n",
              "D           1\n",
              "Name: condition_code, dtype: int64"
            ]
          },
          "metadata": {
            "tags": []
          },
          "execution_count": 4
        }
      ]
    },
    {
      "cell_type": "code",
      "metadata": {
        "id": "S4VPoqeC62w6",
        "colab_type": "code",
        "colab": {
          "base_uri": "https://localhost:8080/",
          "height": 561
        },
        "outputId": "79fd69a5-e416-493e-db17-5eb973779376"
      },
      "source": [
        "df.isnull().sum()"
      ],
      "execution_count": 20,
      "outputs": [
        {
          "output_type": "execute_result",
          "data": {
            "text/plain": [
              "name              817747\n",
              "a                      2\n",
              "e                      0\n",
              "i                      0\n",
              "om                     0\n",
              "w                      0\n",
              "q                      0\n",
              "ad                     6\n",
              "per_y                  1\n",
              "data_arc           15474\n",
              "condition_code       867\n",
              "n_obs_used             0\n",
              "H                   2689\n",
              "neo                    6\n",
              "pha                16442\n",
              "diameter          702078\n",
              "extent            839696\n",
              "albedo            703305\n",
              "rot_per           820918\n",
              "GM                839700\n",
              "BV                838693\n",
              "UB                838735\n",
              "IR                839713\n",
              "spec_B            838048\n",
              "spec_T            838734\n",
              "G                 839595\n",
              "moid               16442\n",
              "class                  0\n",
              "n                      2\n",
              "per                    6\n",
              "ma                     8\n",
              "dtype: int64"
            ]
          },
          "metadata": {
            "tags": []
          },
          "execution_count": 20
        }
      ]
    },
    {
      "cell_type": "code",
      "metadata": {
        "id": "x-3-J7WZ62uB",
        "colab_type": "code",
        "colab": {
          "base_uri": "https://localhost:8080/",
          "height": 272
        },
        "outputId": "c1371a03-51f0-4ec7-b9b9-2d6f7d481c4d"
      },
      "source": [
        "df['class'].value_counts()"
      ],
      "execution_count": 21,
      "outputs": [
        {
          "output_type": "execute_result",
          "data": {
            "text/plain": [
              "MBA    747420\n",
              "OMB     24715\n",
              "IMB     17552\n",
              "MCA     17354\n",
              "APO     11759\n",
              "AMO      8020\n",
              "TJN      7385\n",
              "TNO      3310\n",
              "ATE      1601\n",
              "CEN       488\n",
              "AST        84\n",
              "IEO        20\n",
              "HYA         4\n",
              "PAA         2\n",
              "Name: class, dtype: int64"
            ]
          },
          "metadata": {
            "tags": []
          },
          "execution_count": 21
        }
      ]
    },
    {
      "cell_type": "code",
      "metadata": {
        "id": "EZ1LKr0V62du",
        "colab_type": "code",
        "colab": {
          "base_uri": "https://localhost:8080/",
          "height": 170
        },
        "outputId": "80299703-5b6c-4455-900a-8e04259a12c3"
      },
      "source": [
        "df['n'].describe()"
      ],
      "execution_count": 23,
      "outputs": [
        {
          "output_type": "execute_result",
          "data": {
            "text/plain": [
              "count    8.397120e+05\n",
              "mean     2.374145e-01\n",
              "std      8.095014e-02\n",
              "min      2.926897e-08\n",
              "25%      1.900553e-01\n",
              "50%      2.292228e-01\n",
              "75%      2.675475e-01\n",
              "max      2.381994e+00\n",
              "Name: n, dtype: float64"
            ]
          },
          "metadata": {
            "tags": []
          },
          "execution_count": 23
        }
      ]
    },
    {
      "cell_type": "code",
      "metadata": {
        "id": "p4Wh3FofU9Gr",
        "colab_type": "code",
        "colab": {
          "base_uri": "https://localhost:8080/",
          "height": 170
        },
        "outputId": "976f5a7e-2dd7-4f53-8767-b9eed2f71655"
      },
      "source": [
        "df['per'].describe()"
      ],
      "execution_count": 25,
      "outputs": [
        {
          "output_type": "execute_result",
          "data": {
            "text/plain": [
              "count    8.397080e+05\n",
              "mean     2.505533e+03\n",
              "std      9.213979e+04\n",
              "min      1.511339e+02\n",
              "25%      1.345555e+03\n",
              "50%      1.570524e+03\n",
              "75%      1.894184e+03\n",
              "max      6.131733e+07\n",
              "Name: per, dtype: float64"
            ]
          },
          "metadata": {
            "tags": []
          },
          "execution_count": 25
        }
      ]
    },
    {
      "cell_type": "code",
      "metadata": {
        "id": "9ye2gRWgU88l",
        "colab_type": "code",
        "colab": {
          "base_uri": "https://localhost:8080/",
          "height": 221
        },
        "outputId": "752a219f-ba06-4938-95be-fb1debbbbd9e"
      },
      "source": [
        "df['ma']"
      ],
      "execution_count": 28,
      "outputs": [
        {
          "output_type": "execute_result",
          "data": {
            "text/plain": [
              "0          77.372096\n",
              "1          59.699133\n",
              "2          34.925016\n",
              "3          95.861936\n",
              "4         282.366289\n",
              "             ...    \n",
              "839709    156.905910\n",
              "839710     13.366251\n",
              "839711    355.351127\n",
              "839712     15.320134\n",
              "839713     20.432959\n",
              "Name: ma, Length: 839714, dtype: float64"
            ]
          },
          "metadata": {
            "tags": []
          },
          "execution_count": 28
        }
      ]
    },
    {
      "cell_type": "code",
      "metadata": {
        "id": "6L12zDWMU8yb",
        "colab_type": "code",
        "colab": {}
      },
      "source": [
        ""
      ],
      "execution_count": 0,
      "outputs": []
    },
    {
      "cell_type": "markdown",
      "metadata": {
        "id": "EYKYiS6860EQ",
        "colab_type": "text"
      },
      "source": [
        "**But if you aren't ready yet, or you want more practice, then use the New York City property sales dataset for today's assignment.** Follow the instructions below, to just keep a subset for the Tribeca neighborhood, and remove outliers or dirty data. [Here's a video walkthrough](https://youtu.be/pPWFw8UtBVg?t=584) you can refer to if you get stuck or want hints!\n",
        "\n",
        "- Data Source: [NYC OpenData: NYC Citywide Rolling Calendar Sales](https://data.cityofnewyork.us/dataset/NYC-Citywide-Rolling-Calendar-Sales/usep-8jbt)\n",
        "- Glossary: [NYC Department of Finance: Rolling Sales Data](https://www1.nyc.gov/site/finance/taxes/property-rolling-sales-data.page)"
      ]
    },
    {
      "cell_type": "code",
      "metadata": {
        "id": "8IgOWNYc6mXg",
        "colab_type": "code",
        "colab": {}
      },
      "source": [
        "%%capture\n",
        "import sys\n",
        "\n",
        "# If you're on Colab:\n",
        "if 'google.colab' in sys.modules:\n",
        "    DATA_PATH = 'https://raw.githubusercontent.com/LambdaSchool/DS-Unit-2-Applied-Modeling/master/data/'\n",
        "    !pip install category_encoders==2.*\n",
        "    !pip install pandas-profiling==2.*\n",
        "\n",
        "# If you're working locally:\n",
        "else:\n",
        "    DATA_PATH = '../data/'"
      ],
      "execution_count": 0,
      "outputs": []
    },
    {
      "cell_type": "code",
      "metadata": {
        "id": "hEnOOUQo6mXk",
        "colab_type": "code",
        "colab": {}
      },
      "source": [
        "# Read New York City property sales data\n",
        "import pandas as pd\n",
        "df = pd.read_csv(DATA_PATH+'condos/NYC_Citywide_Rolling_Calendar_Sales.csv')"
      ],
      "execution_count": 0,
      "outputs": []
    },
    {
      "cell_type": "markdown",
      "metadata": {
        "id": "bU4cI9ni6mXn",
        "colab_type": "text"
      },
      "source": [
        "Your code starts here:"
      ]
    },
    {
      "cell_type": "code",
      "metadata": {
        "id": "SbJ-UXWO6mXo",
        "colab_type": "code",
        "colab": {}
      },
      "source": [
        "# Change column names: replace spaces with underscores\n"
      ],
      "execution_count": 0,
      "outputs": []
    },
    {
      "cell_type": "code",
      "metadata": {
        "id": "TNjYv1SI6mXr",
        "colab_type": "code",
        "colab": {}
      },
      "source": [
        "# Get Pandas Profiling Report\n"
      ],
      "execution_count": 0,
      "outputs": []
    },
    {
      "cell_type": "code",
      "metadata": {
        "id": "BIkyMJom6mXt",
        "colab_type": "code",
        "colab": {}
      },
      "source": [
        "# Keep just the subset of data for the Tribeca neighborhood\n",
        "# Check how many rows you have now. (Should go down from > 20k rows to 146)\n"
      ],
      "execution_count": 0,
      "outputs": []
    },
    {
      "cell_type": "code",
      "metadata": {
        "id": "1XxwlddI6mXw",
        "colab_type": "code",
        "colab": {}
      },
      "source": [
        "# Q. What's the date range of these property sales in Tribeca?\n"
      ],
      "execution_count": 0,
      "outputs": []
    },
    {
      "cell_type": "code",
      "metadata": {
        "id": "l2wUAtQ56mX0",
        "colab_type": "code",
        "colab": {}
      },
      "source": [
        "# The Pandas Profiling Report showed that SALE_PRICE was read as strings\n",
        "# Convert it to integers\n"
      ],
      "execution_count": 0,
      "outputs": []
    },
    {
      "cell_type": "code",
      "metadata": {
        "id": "1oTqF9Es6mX3",
        "colab_type": "code",
        "colab": {}
      },
      "source": [
        "# Q. What is the maximum SALE_PRICE in this dataset?\n"
      ],
      "execution_count": 0,
      "outputs": []
    },
    {
      "cell_type": "code",
      "metadata": {
        "id": "zOl-1GmA6mX6",
        "colab_type": "code",
        "colab": {}
      },
      "source": [
        "# Look at the row with the max SALE_PRICE\n"
      ],
      "execution_count": 0,
      "outputs": []
    },
    {
      "cell_type": "code",
      "metadata": {
        "id": "ydxTD4pn6mX9",
        "colab_type": "code",
        "colab": {}
      },
      "source": [
        "# Get value counts of TOTAL_UNITS\n",
        "# Q. How many property sales were for multiple units?\n"
      ],
      "execution_count": 0,
      "outputs": []
    },
    {
      "cell_type": "code",
      "metadata": {
        "id": "1fK4n_y86mYA",
        "colab_type": "code",
        "colab": {}
      },
      "source": [
        "# Keep only the single units\n"
      ],
      "execution_count": 0,
      "outputs": []
    },
    {
      "cell_type": "code",
      "metadata": {
        "id": "v2JTq5vD6mYD",
        "colab_type": "code",
        "colab": {}
      },
      "source": [
        "# Q. Now what is the max sales price? How many square feet does it have?\n"
      ],
      "execution_count": 0,
      "outputs": []
    },
    {
      "cell_type": "code",
      "metadata": {
        "id": "iu2M_R9V6mYG",
        "colab_type": "code",
        "colab": {}
      },
      "source": [
        "# Q. How often did $0 sales occur in this subset of the data?\n",
        "\n",
        "# There's a glossary here: \n",
        "# https://www1.nyc.gov/site/finance/taxes/property-rolling-sales-data.page\n",
        "\n",
        "# It says:\n",
        "# A $0 sale indicates that there was a transfer of ownership without a \n",
        "# cash consideration. There can be a number of reasons for a $0 sale including \n",
        "# transfers of ownership from parents to children. \n",
        "\n"
      ],
      "execution_count": 0,
      "outputs": []
    },
    {
      "cell_type": "code",
      "metadata": {
        "id": "4_LyULqE6mYJ",
        "colab_type": "code",
        "colab": {}
      },
      "source": [
        "# Look at property sales for > 5,000 square feet\n",
        "# Q. What is the highest square footage you see?\n"
      ],
      "execution_count": 0,
      "outputs": []
    },
    {
      "cell_type": "code",
      "metadata": {
        "id": "PzzpvAAv6mYM",
        "colab_type": "code",
        "colab": {}
      },
      "source": [
        "# What are the building class categories?\n",
        "# How frequently does each occur?\n"
      ],
      "execution_count": 0,
      "outputs": []
    },
    {
      "cell_type": "code",
      "metadata": {
        "id": "07nb4ou96mYP",
        "colab_type": "code",
        "colab": {}
      },
      "source": [
        "# Keep subset of rows:\n",
        "# Sale price more than $0, \n",
        "# Building class category = Condos - Elevator Apartments\n",
        "\n",
        "# Check how many rows you have now. (Should be 106 rows.)\n"
      ],
      "execution_count": 0,
      "outputs": []
    },
    {
      "cell_type": "code",
      "metadata": {
        "id": "lLUz-4DP6mYT",
        "colab_type": "code",
        "colab": {}
      },
      "source": [
        "# Make a Plotly Express scatter plot of GROSS_SQUARE_FEET vs SALE_PRICE\n"
      ],
      "execution_count": 0,
      "outputs": []
    },
    {
      "cell_type": "code",
      "metadata": {
        "id": "85hWjz0q6mYW",
        "colab_type": "code",
        "colab": {}
      },
      "source": [
        "# Add an OLS (Ordinary Least Squares) trendline,\n",
        "# to see how the outliers influence the \"line of best fit\"\n"
      ],
      "execution_count": 0,
      "outputs": []
    },
    {
      "cell_type": "code",
      "metadata": {
        "id": "POrawVTM6mYZ",
        "colab_type": "code",
        "colab": {}
      },
      "source": [
        "# Look at sales for more than $35 million\n",
        "\n",
        "# All are at 70 Vestry Street\n",
        "# All but one have the same SALE_PRICE & SALE_DATE\n",
        "# Was the SALE_PRICE for each? Or in total?\n",
        "# Is this dirty data?\n"
      ],
      "execution_count": 0,
      "outputs": []
    },
    {
      "cell_type": "code",
      "metadata": {
        "id": "vh9wGww-6mYc",
        "colab_type": "code",
        "colab": {}
      },
      "source": [
        "# Make a judgment call:\n",
        "# Keep rows where sale price was < $35 million\n",
        "\n",
        "# Check how many rows you have now. (Should be down to 90 rows.)\n"
      ],
      "execution_count": 0,
      "outputs": []
    },
    {
      "cell_type": "code",
      "metadata": {
        "id": "aYneuXLw6mYj",
        "colab_type": "code",
        "colab": {}
      },
      "source": [
        "# Now that you've removed outliers,\n",
        "# Look again at a scatter plot with OLS (Ordinary Least Squares) trendline\n"
      ],
      "execution_count": 0,
      "outputs": []
    },
    {
      "cell_type": "code",
      "metadata": {
        "id": "qT5Hz0xk6mYo",
        "colab_type": "code",
        "colab": {}
      },
      "source": [
        "# Select these columns, then write to a csv file named tribeca.csv. Don't include the index.\n"
      ],
      "execution_count": 0,
      "outputs": []
    }
  ]
}