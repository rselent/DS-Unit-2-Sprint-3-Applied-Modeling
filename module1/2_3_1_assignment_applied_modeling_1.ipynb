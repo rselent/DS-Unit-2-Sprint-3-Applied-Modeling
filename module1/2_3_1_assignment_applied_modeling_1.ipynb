{
  "nbformat": 4,
  "nbformat_minor": 0,
  "metadata": {
    "colab": {
      "name": "2_3_1_assignment_applied_modeling_1.ipynb",
      "provenance": [],
      "collapsed_sections": [],
      "toc_visible": true,
      "include_colab_link": true
    },
    "kernelspec": {
      "display_name": "Python 3",
      "language": "python",
      "name": "python3"
    },
    "language_info": {
      "codemirror_mode": {
        "name": "ipython",
        "version": 3
      },
      "file_extension": ".py",
      "mimetype": "text/x-python",
      "name": "python",
      "nbconvert_exporter": "python",
      "pygments_lexer": "ipython3",
      "version": "3.7.3"
    }
  },
  "cells": [
    {
      "cell_type": "markdown",
      "metadata": {
        "id": "view-in-github",
        "colab_type": "text"
      },
      "source": [
        "<a href=\"https://colab.research.google.com/github/rselent/DS-Unit-2-Sprint-3-Applied-Modeling/blob/master/module1/2_3_1_assignment_applied_modeling_1.ipynb\" target=\"_parent\"><img src=\"https://colab.research.google.com/assets/colab-badge.svg\" alt=\"Open In Colab\"/></a>"
      ]
    },
    {
      "cell_type": "markdown",
      "metadata": {
        "colab_type": "text",
        "id": "nCc3XZEyG3XV"
      },
      "source": [
        "Lambda School Data Science\n",
        "\n",
        "*Unit 2, Sprint 3, Module 1*\n",
        "\n",
        "---\n",
        "\n",
        "\n",
        "# Define ML problems\n",
        "\n",
        "You will use your portfolio project dataset for all assignments this sprint.\n",
        "\n",
        "## Assignment\n",
        "\n",
        "Complete these tasks for your project, and document your decisions.\n",
        "\n",
        "- [ ] Choose your target. Which column in your tabular dataset will you predict?\n",
        "- [ ] Is your problem regression or classification?\n",
        "- [ ] How is your target distributed?\n",
        "    - Classification: How many classes? Are the classes imbalanced?\n",
        "    - Regression: Is the target right-skewed? If so, you may want to log transform the target.\n",
        "- [ ] Choose your evaluation metric(s).\n",
        "    - Classification: Is your majority class frequency >= 50% and < 70% ? If so, you can just use accuracy if you want. Outside that range, accuracy could be misleading. What evaluation metric will you choose, in addition to or instead of accuracy?\n",
        "    - Regression: Will you use mean absolute error, root mean squared error, R^2, or other regression metrics?\n",
        "- [ ] Choose which observations you will use to train, validate, and test your model.\n",
        "    - Are some observations outliers? Will you exclude them?\n",
        "    - Will you do a random split or a time-based split?\n",
        "- [ ] Begin to clean and explore your data.\n",
        "- [ ] Begin to choose which features, if any, to exclude. Would some features \"leak\" future information?\n",
        "\n",
        "If you haven't found a dataset yet, do that today. [Review requirements for your portfolio project](https://lambdaschool.github.io/ds/unit2) and choose your dataset."
      ]
    },
    {
      "cell_type": "code",
      "metadata": {
        "id": "hk2ESz65M9vz",
        "colab_type": "code",
        "colab": {}
      },
      "source": [
        "# Target: 'pha' (Physically Hazardous Asteroid) sounds like a fun one, \n",
        "#          even though the dataset was originally pulled from JPL with the \n",
        "#          intent of predicting the size of an asteroid. So, that's what I'm\n",
        "#          leaning towards, but I may still have to fall back to a regression-\n",
        "#          based size prediction, depending on other factors\n",
        "#\n",
        "# Problem Type: Classification, if pha; Regression, if size\n",
        "#\n",
        "# Distribution: 2 classes (Y/N), heavily imbalanced (could this cause problems?)\n",
        "#                                   --> out of 200,000+ observations, just 260 are Y\n",
        "#\n",
        "# Eval Metrics: Majority class (N) frequency is ~ 99.876%, so... slightly misleading, \n",
        "#                                   but space is also realllllllly big like that...\n",
        "#                                           Spaaaaaaaaaaace....\n",
        "#\n",
        "# No observed outliers yet, but I discovered the size of the CSV file is prohibitively large\n",
        "# at ~209,000 observations (~200MB). Github doesn't like files larger than 100MB, so I maaaaaaay\n",
        "# have to cut it in half. Not sure if that should be done randomly or...\n",
        "# To answer the question though, the train/val/test split will have to be random, time-based is not an option\n",
        "#\n",
        "# 'neo' (near-earth object) *could* be a leaking feature, as that could potentially be a prerequisite quality \n",
        "# for all PHAs, depending on how JPL classifies PHAs (because, theoretically/philosophically speaking,\n",
        "# if an asteroid never gets close to our planet, is it really physically hazardous??)\n",
        "#\n",
        "# \n",
        "#\n",
        "#"
      ],
      "execution_count": 0,
      "outputs": []
    },
    {
      "cell_type": "code",
      "metadata": {
        "id": "tdbiBDxhuOix",
        "colab_type": "code",
        "colab": {
          "base_uri": "https://localhost:8080/",
          "height": 88
        },
        "outputId": "814cadab-d900-49b6-e7d5-88632c60c7ef"
      },
      "source": [
        "import pandas as pd\n",
        "\n",
        "df = pd.read_csv( \"Asteroid.csv\")\n",
        "\n",
        "df.shape"
      ],
      "execution_count": 3,
      "outputs": [
        {
          "output_type": "stream",
          "text": [
            "/usr/local/lib/python3.6/dist-packages/IPython/core/interactiveshell.py:2718: DtypeWarning: Columns (15,16,24) have mixed types. Specify dtype option on import or set low_memory=False.\n",
            "  interactivity=interactivity, compiler=compiler, result=result)\n"
          ],
          "name": "stderr"
        },
        {
          "output_type": "execute_result",
          "data": {
            "text/plain": [
              "(208979, 31)"
            ]
          },
          "metadata": {
            "tags": []
          },
          "execution_count": 3
        }
      ]
    },
    {
      "cell_type": "code",
      "metadata": {
        "id": "2ixwduckuWq_",
        "colab_type": "code",
        "colab": {
          "base_uri": "https://localhost:8080/",
          "height": 68
        },
        "outputId": "8f6b2e58-6bd7-4389-f2ed-e6be14f8d0d9"
      },
      "source": [
        "df['pha'].value_counts()"
      ],
      "execution_count": 5,
      "outputs": [
        {
          "output_type": "execute_result",
          "data": {
            "text/plain": [
              "N    208718\n",
              "Y       260\n",
              "Name: pha, dtype: int64"
            ]
          },
          "metadata": {
            "tags": []
          },
          "execution_count": 5
        }
      ]
    },
    {
      "cell_type": "code",
      "metadata": {
        "id": "HNLwMoZVyNWZ",
        "colab_type": "code",
        "colab": {}
      },
      "source": [
        "## Oh. Wow. This cound be a problem..."
      ],
      "execution_count": 0,
      "outputs": []
    }
  ]
}